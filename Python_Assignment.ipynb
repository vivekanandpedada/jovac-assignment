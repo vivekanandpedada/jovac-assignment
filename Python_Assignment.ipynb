{
 "cells": [
  {
   "cell_type": "code",
   "execution_count": 31,
   "id": "66a7be05-687b-424d-a0c6-8004946d0645",
   "metadata": {},
   "outputs": [
    {
     "name": "stdout",
     "output_type": "stream",
     "text": [
      "5\n"
     ]
    }
   ],
   "source": [
    "# Second largest number\n",
    "\n",
    "nums = [0,3,5,6]\n",
    "def second_largest(nums):\n",
    "    largest = nums[0]\n",
    "    for i in nums:\n",
    "        if i > largest:\n",
    "            largest = i\n",
    "    second = None\n",
    "    for i in nums:\n",
    "        if i != largest:\n",
    "            if second is None or i > second:\n",
    "                second = i\n",
    "    return second\n",
    "    \n",
    "print(second_largest(nums))"
   ]
  },
  {
   "cell_type": "code",
   "execution_count": 34,
   "id": "bea3cfd6-83a1-4d94-a23a-f8a172b637ad",
   "metadata": {},
   "outputs": [
    {
     "name": "stdout",
     "output_type": "stream",
     "text": [
      "[1, 2, 3, 5, 7, 8]\n"
     ]
    }
   ],
   "source": [
    "# remove duplicates\n",
    "list = [2,5,3,8,1,7,3,3,5,8]\n",
    "\n",
    "def rem_dupli(list):\n",
    "    list2 = []\n",
    "    for i in list:\n",
    "        if i not in list2:\n",
    "            list2.append(i)\n",
    "    for i in range(len(list2)):\n",
    "        for j in range(i+1,len(list2)):\n",
    "            if list2[i] > list2[j]:\n",
    "                temp = list2[i]\n",
    "                list2[i] = list2[j]\n",
    "                list2[j] = temp\n",
    "    return list2\n",
    "\n",
    "print(rem_dupli(list))"
   ]
  },
  {
   "cell_type": "code",
   "execution_count": 38,
   "id": "eba1500f-735a-45d2-8368-f7c5b351ee5b",
   "metadata": {},
   "outputs": [
    {
     "name": "stdout",
     "output_type": "stream",
     "text": [
      "(45, 4.5)\n"
     ]
    }
   ],
   "source": [
    "# find Sum and Average\n",
    "\n",
    "def sum_and_avg(list):\n",
    "    total = 0\n",
    "    for i in list:\n",
    "        total = total+i\n",
    "    avg = total / len(list)\n",
    "    return total,avg\n",
    "\n",
    "print(sum_and_avg(list))"
   ]
  },
  {
   "cell_type": "code",
   "execution_count": 41,
   "id": "7b92daff-77f3-4149-b698-e82dcdfb267a",
   "metadata": {},
   "outputs": [
    {
     "name": "stdin",
     "output_type": "stream",
     "text": [
      " 5\n"
     ]
    },
    {
     "name": "stdout",
     "output_type": "stream",
     "text": [
      "True\n"
     ]
    }
   ],
   "source": [
    "# Check if a number is prime or not\n",
    "\n",
    "n = int(input())\n",
    "def is_prime(n):\n",
    "    if n<2:\n",
    "        return False\n",
    "    for i in range(2,n):\n",
    "        if n%i == 0:\n",
    "            return False\n",
    "    return True\n",
    "    \n",
    "print(is_prime(n))"
   ]
  },
  {
   "cell_type": "code",
   "execution_count": 46,
   "id": "67fe0a79-299e-40e9-8069-facf1ae79df4",
   "metadata": {},
   "outputs": [],
   "source": [
    "# Count vowels, consonants, digits, special characters\n",
    "def count_chars(s):\n",
    "    vowels = consonants = digits = specials = 0\n",
    "    for ch in s:\n",
    "        if ch.lower() in 'aeiou':\n",
    "            vowels += 1\n",
    "        elif ch.isalpha():\n",
    "            consonants += 1\n",
    "        elif ch.isdigit():\n",
    "            digits += 1\n",
    "        else:\n",
    "            specials += 1\n",
    "    return vowels, consonants, digits, specials"
   ]
  },
  {
   "cell_type": "code",
   "execution_count": 49,
   "id": "68fe951d-9f73-49c0-95ce-d88d73ca9b6f",
   "metadata": {},
   "outputs": [],
   "source": [
    "# Print even numbers 1-100\n",
    "def even_1_to_100():\n",
    "    for i in range(1, 101):\n",
    "        if i % 2 == 0:\n",
    "            print(i)"
   ]
  },
  {
   "cell_type": "code",
   "execution_count": 52,
   "id": "394032de-ba84-4d85-8f9c-879ba3d73d06",
   "metadata": {},
   "outputs": [],
   "source": [
    "# Multiplication table\n",
    "def multiplication_table(n):\n",
    "    for i in range(1, 11):\n",
    "        print(n, 'x', i, '=', n * i)"
   ]
  },
  {
   "cell_type": "code",
   "execution_count": 55,
   "id": "6071d44b-c7b9-4ceb-be19-b38d78428527",
   "metadata": {},
   "outputs": [],
   "source": [
    "# Numbers divisible by 3 and 5 from 1 to 100\n",
    "def divisible_by_3_and_5():\n",
    "    result = []\n",
    "    for i in range(1, 101):\n",
    "        if i % 3 == 0 and i % 5 == 0:\n",
    "            result.append(i)\n",
    "    return result"
   ]
  },
  {
   "cell_type": "code",
   "execution_count": 63,
   "id": "39dfc598-46fc-465e-b7f8-d7e6b7e19b2d",
   "metadata": {},
   "outputs": [],
   "source": [
    "# Reverse a number\n",
    "def reverse_number(n):\n",
    "    rev = 0\n",
    "    while n > 0:\n",
    "        rev = rev * 10 + n % 10\n",
    "        n = n // 10\n",
    "    return rev"
   ]
  },
  {
   "cell_type": "code",
   "execution_count": 71,
   "id": "58a6627f-fdc4-49e4-95ef-8eff4d9632f1",
   "metadata": {},
   "outputs": [],
   "source": [
    "# Frequency of characters\n",
    "def char_frequency(s):\n",
    "    freq = {}\n",
    "    for ch in s:\n",
    "        if ch in freq:\n",
    "            freq[ch] += 1\n",
    "        else:\n",
    "            freq[ch] = 1\n",
    "    return freq\n"
   ]
  },
  {
   "cell_type": "code",
   "execution_count": 77,
   "id": "11f5c483-3397-4aa5-826b-818127c2c467",
   "metadata": {},
   "outputs": [],
   "source": [
    "# First n prime numbers\n",
    "def first_n_primes(n):\n",
    "    primes = []\n",
    "    num = 2\n",
    "    while len(primes) < n:\n",
    "        if is_prime(num):\n",
    "            primes.append(num)\n",
    "        num += 1\n",
    "    return primes"
   ]
  },
  {
   "cell_type": "code",
   "execution_count": 83,
   "id": "4ff61f4c-8dc5-4789-b2ea-788fa56cdd5e",
   "metadata": {},
   "outputs": [],
   "source": [
    "# Check if number is palindrome\n",
    "def is_palindrome(n):\n",
    "    original = n\n",
    "    reverse = 0\n",
    "    while n > 0:\n",
    "        reverse = reverse * 10 + n % 10\n",
    "        n = n // 10\n",
    "    return original == reverse\n"
   ]
  },
  {
   "cell_type": "code",
   "execution_count": 88,
   "id": "fab4a51d-b542-402b-8a26-9421cb34f506",
   "metadata": {},
   "outputs": [],
   "source": [
    "# Count how many times an element appears\n",
    "def count_occurrences(lst, x):\n",
    "    count = 0\n",
    "    for item in lst:\n",
    "        if item == x:\n",
    "            count += 1\n",
    "    return count"
   ]
  },
  {
   "cell_type": "code",
   "execution_count": 91,
   "id": "8a3d83d2-0340-4a77-beba-2f603add15c6",
   "metadata": {},
   "outputs": [],
   "source": [
    "# Squares of even numbers 1 to 50\n",
    "def even_squares_1_to_50():\n",
    "    squares = []\n",
    "    for i in range(1, 51):\n",
    "        if i % 2 == 0:\n",
    "            squares.append(i * i)\n",
    "    return squares"
   ]
  },
  {
   "cell_type": "code",
   "execution_count": 94,
   "id": "3fa1c875-5d92-4007-91e7-a11ec6c1b485",
   "metadata": {},
   "outputs": [],
   "source": [
    "# Unique elements, preserve order\n",
    "def unique_preserve_order(lst):\n",
    "    result = []\n",
    "    for item in lst:\n",
    "        if item not in result:\n",
    "            result.append(item)\n",
    "    return result"
   ]
  },
  {
   "cell_type": "code",
   "execution_count": 95,
   "id": "842d587b-0484-4bfb-98f4-41450f65f45e",
   "metadata": {},
   "outputs": [],
   "source": [
    "# Even or odd\n",
    "def even_or_odd(n):\n",
    "    if n % 2 == 0:\n",
    "        return \"Even\"\n",
    "    else:\n",
    "        return \"Odd\""
   ]
  },
  {
   "cell_type": "code",
   "execution_count": 96,
   "id": "d0483ff3-d7d5-49f5-aa8b-ce952280e48e",
   "metadata": {},
   "outputs": [],
   "source": [
    "# Cumulative sum\n",
    "def cumulative_sum(lst):\n",
    "    result = []\n",
    "    total = 0\n",
    "    for num in lst:\n",
    "        total += num\n",
    "        result.append(total)\n",
    "    return result"
   ]
  },
  {
   "cell_type": "code",
   "execution_count": 97,
   "id": "4670618b-3485-447b-a8c8-b06468dbd043",
   "metadata": {},
   "outputs": [],
   "source": [
    "# Factorial (recursive)\n",
    "def factorial(n):\n",
    "    if n == 0:\n",
    "        return 1\n",
    "    else:\n",
    "        return n * factorial(n - 1)\n",
    "        return n * factorial(n - 1)"
   ]
  },
  {
   "cell_type": "code",
   "execution_count": 98,
   "id": "a7bbef66-8677-479e-af31-dd0e395e2203",
   "metadata": {},
   "outputs": [],
   "source": [
    "# 19. Fibonacci up to n terms\n",
    "def fibonacci(n):\n",
    "    a = 0\n",
    "    b = 1\n",
    "    for i in range(n):\n",
    "        print(a, end=' ')\n",
    "        c = a + b\n",
    "        a = b\n",
    "        b = c\n"
   ]
  },
  {
   "cell_type": "code",
   "execution_count": 101,
   "id": "12f6ed1e-1067-428f-8dcb-86236c6561b2",
   "metadata": {},
   "outputs": [],
   "source": [
    "# Check if a string is palindrome\n",
    "def is_string_palindrome(s):\n",
    "    return s == s[::-1]"
   ]
  },
  {
   "cell_type": "code",
   "execution_count": 102,
   "id": "fc2727b5-6568-435f-a461-c0af9610c5a1",
   "metadata": {},
   "outputs": [],
   "source": [
    "# Max and min from list\n",
    "def max_min(lst):\n",
    "    maximum = minimum = lst[0]\n",
    "    for num in lst:\n",
    "        if num > maximum:\n",
    "            maximum = num\n",
    "        if num < minimum:\n",
    "            minimum = num\n",
    "    return maximum, minimum"
   ]
  },
  {
   "cell_type": "code",
   "execution_count": 103,
   "id": "9776d59c-6253-4a92-9df9-1ec2221f4ffc",
   "metadata": {},
   "outputs": [],
   "source": [
    "#  Check pangram\n",
    "def is_pangram(s):\n",
    "    s = s.lower()\n",
    "    for ch in 'abcdefghijklmnopqrstuvwxyz':\n",
    "        if ch not in s:\n",
    "            return False\n",
    "    return True"
   ]
  },
  {
   "cell_type": "code",
   "execution_count": 104,
   "id": "2d5acff7-3766-4a57-8abf-e44370e9b0fc",
   "metadata": {},
   "outputs": [],
   "source": [
    "# Prime numbers in range\n",
    "def primes_in_range(start, end):\n",
    "    primes = []\n",
    "    for i in range(start, end+1):\n",
    "        if is_prime(i):\n",
    "            primes.append(i)\n",
    "    return primes"
   ]
  },
  {
   "cell_type": "code",
   "execution_count": 105,
   "id": "6e7adcfe-2d9b-461a-976f-9dcd7b100809",
   "metadata": {},
   "outputs": [],
   "source": [
    "# Count uppercase and lowercase\n",
    "def count_case(s):\n",
    "    upper = lower = 0\n",
    "    for ch in s:\n",
    "        if ch.isupper():\n",
    "            upper += 1\n",
    "        elif ch.islower():\n",
    "            lower += 1\n",
    "    return upper, lower"
   ]
  },
  {
   "cell_type": "code",
   "execution_count": 106,
   "id": "b30deafa-b5ba-4c1d-89ea-6f2476a6e197",
   "metadata": {},
   "outputs": [],
   "source": [
    "# Sum of digits\n",
    "def sum_of_digits(n):\n",
    "    total = 0\n",
    "    while n > 0:\n",
    "        total += n % 10\n",
    "        n = n // 10\n",
    "    return total"
   ]
  },
  {
   "cell_type": "code",
   "execution_count": 107,
   "id": "b4292058-7ae6-4301-be53-3de8e63e58d2",
   "metadata": {},
   "outputs": [],
   "source": [
    "# Count words\n",
    "def word_count(sentence):\n",
    "    words = sentence.split()\n",
    "    return len(words)\n"
   ]
  },
  {
   "cell_type": "code",
   "execution_count": 108,
   "id": "4ba386ff-b916-4292-931f-80c08db42ff2",
   "metadata": {},
   "outputs": [],
   "source": [
    "# Remove punctuation\n",
    "def remove_punctuation(s):\n",
    "    result = ''\n",
    "    for ch in s:\n",
    "        if ch not in '!\"#$%&\\'()*+,-./:;<=>?@[\\\\]^_`{|}~':\n",
    "            result += ch\n",
    "    return result"
   ]
  },
  {
   "cell_type": "code",
   "execution_count": 109,
   "id": "4bd6707c-cedf-4d43-bb3b-8383d6a876e5",
   "metadata": {},
   "outputs": [],
   "source": [
    "# GCD of two numbers\n",
    "def gcd(a, b):\n",
    "    while b != 0:\n",
    "        temp = b\n",
    "        b = a % b\n",
    "        a = temp\n",
    "    return a"
   ]
  },
  {
   "cell_type": "code",
   "execution_count": 110,
   "id": "acdb2132-1a2d-4abd-9f37-fd8f048ff444",
   "metadata": {},
   "outputs": [],
   "source": [
    "# Elements that appear more than once\n",
    "def duplicates(lst):\n",
    "    result = []\n",
    "    for i in lst:\n",
    "        if lst.count(i) > 1 and i not in result:\n",
    "            result.append(i)\n",
    "    return result\n"
   ]
  },
  {
   "cell_type": "code",
   "execution_count": 111,
   "id": "4a14c84f-228e-4fb2-9806-a87ebdaeee6b",
   "metadata": {},
   "outputs": [],
   "source": [
    "# Largest of three numbers\n",
    "def largest_of_three(a, b, c):\n",
    "    if a >= b and a >= c:\n",
    "        return a\n",
    "    elif b >= a and b >= c:\n",
    "        return b\n",
    "    else:\n",
    "        return c"
   ]
  },
  {
   "cell_type": "code",
   "execution_count": 112,
   "id": "8e11bda8-91c1-4455-888b-c6600b288fe3",
   "metadata": {},
   "outputs": [
    {
     "name": "stdout",
     "output_type": "stream",
     "text": [
      "['a', 'is', 'sentence', 'simple', 'this']\n"
     ]
    }
   ],
   "source": [
    "# 31\n",
    "sentence = \"this is a simple sentence\"\n",
    "words = sentence.split()\n",
    "for i in range(len(words)):\n",
    "    for j in range(i + 1, len(words)):\n",
    "        if words[i] > words[j]:\n",
    "            words[i], words[j] = words[j], words[i]\n",
    "print(words)\n"
   ]
  },
  {
   "cell_type": "code",
   "execution_count": 113,
   "id": "b650112a-54c1-443d-8fa2-a825b3bbe828",
   "metadata": {},
   "outputs": [
    {
     "name": "stdout",
     "output_type": "stream",
     "text": [
      "{'a': 1, 'b': 2, 'c': 3, 'd': 4}\n"
     ]
    }
   ],
   "source": [
    "# 32\n",
    "dict1 = {'a': 1, 'b': 2}\n",
    "dict2 = {'c': 3, 'd': 4}\n",
    "dict1.update(dict2)\n",
    "print(dict1)\n"
   ]
  },
  {
   "cell_type": "code",
   "execution_count": 114,
   "id": "51498476-c7eb-473e-98d1-92a945b08784",
   "metadata": {},
   "outputs": [
    {
     "name": "stdout",
     "output_type": "stream",
     "text": [
      "hello has 2 vowels\n",
      "world has 1 vowels\n",
      "python has 1 vowels\n"
     ]
    }
   ],
   "source": [
    "# 33\n",
    "sentence = \"hello world python\"\n",
    "words = sentence.split()\n",
    "for word in words:\n",
    "    count = 0\n",
    "    for ch in word:\n",
    "        if ch.lower() in 'aeiou':\n",
    "            count += 1\n",
    "    print(word, \"has\", count, \"vowels\")"
   ]
  },
  {
   "cell_type": "code",
   "execution_count": 119,
   "id": "209011d8-786b-4ae3-92a9-f97e1476356c",
   "metadata": {},
   "outputs": [
    {
     "name": "stdout",
     "output_type": "stream",
     "text": [
      "[1, 2, 3]\n"
     ]
    }
   ],
   "source": [
    "# 34\n",
    "t = (1, 2, 3)\n",
    "l = []\n",
    "for item in t:\n",
    "    l.append(item)\n",
    "print(l)"
   ]
  },
  {
   "cell_type": "code",
   "execution_count": 120,
   "id": "204fa1db-02b0-40c7-a91f-95248f6847de",
   "metadata": {},
   "outputs": [
    {
     "name": "stdout",
     "output_type": "stream",
     "text": [
      "HelloWorld\n"
     ]
    }
   ],
   "source": [
    "# 35\n",
    "def remove_whitespace(text):\n",
    "    print(text.replace(\" \", \"\"))\n",
    "\n",
    "remove_whitespace(\" Hello   World \")"
   ]
  },
  {
   "cell_type": "code",
   "execution_count": 121,
   "id": "c5a16c25-1cfd-4c92-9756-d40525903e32",
   "metadata": {},
   "outputs": [
    {
     "name": "stdout",
     "output_type": "stream",
     "text": [
      "{'a': 1, 'b': 2}\n"
     ]
    }
   ],
   "source": [
    "# 36\n",
    "def merge_lists(keys, values):\n",
    "    d = {}\n",
    "    for i in range(len(keys)):\n",
    "        d[keys[i]] = values[i]\n",
    "    print(d)\n",
    "\n",
    "merge_lists(['a', 'b'], [1, 2])"
   ]
  },
  {
   "cell_type": "code",
   "execution_count": 122,
   "id": "6ffdfb59-fbcc-4fb3-976c-0a6a2cda61c7",
   "metadata": {},
   "outputs": [
    {
     "name": "stdout",
     "output_type": "stream",
     "text": [
      "b\n"
     ]
    }
   ],
   "source": [
    "# 37\n",
    "d = {'a': 10, 'b': 20, 'c': 15}\n",
    "max_key = None\n",
    "max_value = 0\n",
    "for k in d:\n",
    "    if d[k] > max_value:\n",
    "        max_value = d[k]\n",
    "        max_key = k\n",
    "print(max_key)"
   ]
  },
  {
   "cell_type": "code",
   "execution_count": 123,
   "id": "c40a9523-b1e2-4c87-9d08-0b52c3889f94",
   "metadata": {},
   "outputs": [
    {
     "name": "stdout",
     "output_type": "stream",
     "text": [
      "{'this': 2, 'is': 2, 'a': 2, 'test': 2, 'only': 1}\n"
     ]
    }
   ],
   "source": [
    "# 38\n",
    "text = \"this is a test this is only a test\"\n",
    "words = text.split()\n",
    "freq = {}\n",
    "for word in words:\n",
    "    if word in freq:\n",
    "        freq[word] += 1\n",
    "    else:\n",
    "        freq[word] = 1\n",
    "print(freq)"
   ]
  },
  {
   "cell_type": "code",
   "execution_count": 124,
   "id": "57f51ad9-6330-44dc-be10-a3d33db4222d",
   "metadata": {},
   "outputs": [
    {
     "name": "stdout",
     "output_type": "stream",
     "text": [
      "Key exists\n"
     ]
    }
   ],
   "source": [
    "# 39\n",
    "d = {'x': 1, 'y': 2}\n",
    "key = 'x'\n",
    "if key in d:\n",
    "    print(\"Key exists\")\n",
    "else:\n",
    "    print(\"Key does not exist\")"
   ]
  },
  {
   "cell_type": "code",
   "execution_count": 125,
   "id": "f8d5eca9-7535-4de3-b45e-1ac1c2cdb2f3",
   "metadata": {},
   "outputs": [
    {
     "name": "stdout",
     "output_type": "stream",
     "text": [
      "h*ll* w*rld\n"
     ]
    }
   ],
   "source": [
    "# 40\n",
    "s = \"hello world\"\n",
    "new_s = ''\n",
    "for ch in s:\n",
    "    if ch.lower() in 'aeiou':\n",
    "        new_s += '*'\n",
    "    else:\n",
    "        new_s += ch\n",
    "print(new_s)"
   ]
  },
  {
   "cell_type": "code",
   "execution_count": 135,
   "id": "b596ec17-d1a2-4f93-bf0d-00fde93897a6",
   "metadata": {},
   "outputs": [
    {
     "name": "stdout",
     "output_type": "stream",
     "text": [
      "{\n",
      " \"cells\": [\n",
      "  {\n",
      "   \"cell_type\": \"code\",\n",
      "   \"execution_count\": 4,\n",
      "   \"id\": \"5eafca78-09ac-44b3-b399-74a6e9a0ca01\",\n",
      "   \"metadata\": {},\n",
      "   \"outputs\": [\n",
      "    {\n",
      "     \"name\": \"stdout\",\n",
      "     \"output_type\": \"stream\",\n",
      "     \"text\": [\n",
      "      \"1\\n\",\n",
      "      \"3\\n\"\n",
      "     ]\n",
      "    }\n",
      "   ],\n",
      "   \"source\": [\n",
      "    \"for i in range(1,5,2):\\n\",\n",
      "    \"    print(i)\"\n",
      "   ]\n",
      "  },\n",
      "  {\n",
      "   \"cell_type\": \"code\",\n",
      "   \"execution_count\": 5,\n",
      "   \"id\": \"a60574ea-abab-4ecf-a6d9-b388ef8730c9\",\n",
      "   \"metadata\": {},\n",
      "   \"outputs\": [\n",
      "    {\n",
      "     \"name\": \"stdout\",\n",
      "     \"output_type\": \"stream\",\n",
      "     \"text\": [\n",
      "      \"[1, 2, 3, 4, 5, 1]\\n\"\n",
      "     ]\n",
      "    }\n",
      "   ],\n",
      "   \"source\": [\n",
      "    \"l = [1,2,3,4,5,1]\\n\",\n",
      "    \"print(l)\"\n",
      "   ]\n",
      "  },\n",
      "  {\n",
      "   \"cell_type\": \"code\",\n",
      "   \"execution_count\": 6,\n",
      "   \"id\": \"de9da24b-4274-471c-826b-6db497d61e52\",\n",
      "   \"metadata\": {},\n",
      "   \"outputs\": [\n",
      "    {\n",
      "     \"name\": \"stdout\",\n",
      "     \"output_type\": \"stream\",\n",
      "     \"text\": [\n",
      "      \"[]\\n\"\n",
      "     ]\n",
      "    }\n",
      "   ],\n",
      "   \"source\": [\n",
      "    \"print([])\"\n",
      "   ]\n",
      "  },\n",
      "  {\n",
      "   \"cell_type\": \"code\",\n",
      "   \"execution_count\": 7,\n",
      "   \"id\": \"dcd6a55b-59f8-4b9a-9b05-e06c5d0f1d0a\",\n",
      "   \"metadata\": {},\n",
      "   \"outputs\": [\n",
      "    {\n",
      "     \"name\": \"stdout\",\n",
      "     \"output_type\": \"stream\",\n",
      "     \"text\": [\n",
      "      \"[1, 2, 3, 4, 5]\\n\"\n",
      "     ]\n",
      "    }\n",
      "   ],\n",
      "   \"source\": [\n",
      "    \"print([1,2,3,4,5])\"\n",
      "   ]\n",
      "  },\n",
      "  {\n",
      "   \"cell_type\": \"code\",\n",
      "   \"execution_count\": 9,\n",
      "   \"id\": \"b7ae3b03-853b-4995-bc8f-d3dab303f296\",\n",
      "   \"metadata\": {},\n",
      "   \"outputs\": [\n",
      "    {\n",
      "     \"name\": \"stdout\",\n",
      "     \"output_type\": \"stream\",\n",
      "     \"text\": [\n",
      "      \"[1, 2, 3, 4, [5, 6]]\\n\"\n",
      "     ]\n",
      "    }\n",
      "   ],\n",
      "   \"source\": [\n",
      "    \"print([1,2,3,4,[5,6]])\"\n",
      "   ]\n",
      "  },\n",
      "  {\n",
      "   \"cell_type\": \"code\",\n",
      "   \"execution_count\": 24,\n",
      "   \"id\": \"2d55a37f-d358-41f3-8d92-1fc5ddf56cfd\",\n",
      "   \"metadata\": {},\n",
      "   \"outputs\": [\n",
      "    {\n",
      "     \"name\": \"stdout\",\n",
      "     \"output_type\": \"stream\",\n",
      "     \"text\": [\n",
      "      \"[[[1, 2], [3, 4]], [[5, 6], [7, 8]]]\\n\",\n",
      "      \"[5, 6]\\n\"\n",
      "     ]\n",
      "    }\n",
      "   ],\n",
      "   \"source\": [\n",
      "    \"r = [[[1,2],[3,4]],[[5,6],[7,8]]]\\n\",\n",
      "    \"print(r)\\n\",\n",
      "    \"print(r[1][0])\"\n",
      "   ]\n",
      "  },\n",
      "  {\n",
      "   \"cell_type\": \"code\",\n",
      "   \"execution_count\": 17,\n",
      "   \"id\": \"42abd100-104e-4b99-999e-92d63abe6d26\",\n",
      "   \"metadata\": {},\n",
      "   \"outputs\": [],\n",
      "   \"source\": [\n",
      "    \"L = [True,2,34.5,[7,85]]\"\n",
      "   ]\n",
      "  },\n",
      "  {\n",
      "   \"cell_type\": \"code\",\n",
      "   \"execution_count\": 18,\n",
      "   \"id\": \"972e39da-88b9-44e5-b5de-be3a45f65955\",\n",
      "   \"metadata\": {},\n",
      "   \"outputs\": [\n",
      "    {\n",
      "     \"name\": \"stdout\",\n",
      "     \"output_type\": \"stream\",\n",
      "     \"text\": [\n",
      "      \"[True, 2, 34.5, [7, 85]]\\n\"\n",
      "     ]\n",
      "    }\n",
      "   ],\n",
      "   \"source\": [\n",
      "    \"print(L)\"\n",
      "   ]\n",
      "  },\n",
      "  {\n",
      "   \"cell_type\": \"code\",\n",
      "   \"execution_count\": 46,\n",
      "   \"id\": \"31757f3d-c101-4a58-8139-bbae278a3937\",\n",
      "   \"metadata\": {},\n",
      "   \"outputs\": [\n",
      "    {\n",
      "     \"name\": \"stdout\",\n",
      "     \"output_type\": \"stream\",\n",
      "     \"text\": [\n",
      "      \"1\\n\"\n",
      "     ]\n",
      "    }\n",
      "   ],\n",
      "   \"source\": [\n",
      "    \"L = [1,2,3,4,5,6]\\n\",\n",
      "    \"print(L[0])\"\n",
      "   ]\n",
      "  },\n",
      "  {\n",
      "   \"cell_type\": \"code\",\n",
      "   \"execution_count\": 47,\n",
      "   \"id\": \"58634f1b-4288-4085-af97-f3ef0aa15cef\",\n",
      "   \"metadata\": {},\n",
      "   \"outputs\": [\n",
      "    {\n",
      "     \"name\": \"stdout\",\n",
      "     \"output_type\": \"stream\",\n",
      "     \"text\": [\n",
      "      \"[2, 4, 6]\\n\"\n",
      "     ]\n",
      "    }\n",
      "   ],\n",
      "   \"source\": [\n",
      "    \"print(L[1:7:2])\"\n",
      "   ]\n",
      "  },\n",
      "  {\n",
      "   \"cell_type\": \"code\",\n",
      "   \"execution_count\": 48,\n",
      "   \"id\": \"922b4265-d19b-4acb-af5d-c68867c36876\",\n",
      "   \"metadata\": {},\n",
      "   \"outputs\": [\n",
      "    {\n",
      "     \"name\": \"stdout\",\n",
      "     \"output_type\": \"stream\",\n",
      "     \"text\": [\n",
      "      \"[1, 2, 3, 4, 5, 6]\\n\"\n",
      "     ]\n",
      "    }\n",
      "   ],\n",
      "   \"source\": [\n",
      "    \"print(L[-6:])\"\n",
      "   ]\n",
      "  },\n",
      "  {\n",
      "   \"cell_type\": \"code\",\n",
      "   \"execution_count\": 49,\n",
      "   \"id\": \"d23fd8ac-a17d-4902-aad6-7f9d179dd2a1\",\n",
      "   \"metadata\": {},\n",
      "   \"outputs\": [\n",
      "    {\n",
      "     \"name\": \"stdout\",\n",
      "     \"output_type\": \"stream\",\n",
      "     \"text\": [\n",
      "      \"[1, 2, 3, 4, 5, 6, 7]\\n\"\n",
      "     ]\n",
      "    }\n",
      "   ],\n",
      "   \"source\": [\n",
      "    \"L.append(7)\\n\",\n",
      "    \"print(L)\"\n",
      "   ]\n",
      "  },\n",
      "  {\n",
      "   \"cell_type\": \"code\",\n",
      "   \"execution_count\": 50,\n",
      "   \"id\": \"00835c7d-fa3f-4ddc-aebb-8b47dfb827a9\",\n",
      "   \"metadata\": {},\n",
      "   \"outputs\": [\n",
      "    {\n",
      "     \"name\": \"stdout\",\n",
      "     \"output_type\": \"stream\",\n",
      "     \"text\": [\n",
      "      \"[1, 2, 3, 4, 5, 6, 7, 8, 9, 10]\\n\"\n",
      "     ]\n",
      "    }\n",
      "   ],\n",
      "   \"source\": [\n",
      "    \"L.extend([8,9,10])\\n\",\n",
      "    \"print(L)\\n\"\n",
      "   ]\n",
      "  },\n",
      "  {\n",
      "   \"cell_type\": \"code\",\n",
      "   \"execution_count\": 51,\n",
      "   \"id\": \"7e3e4f9a-5628-48d0-ab74-d142654fb397\",\n",
      "   \"metadata\": {},\n",
      "   \"outputs\": [\n",
      "    {\n",
      "     \"name\": \"stdout\",\n",
      "     \"output_type\": \"stream\",\n",
      "     \"text\": [\n",
      "      \"[1, 2, 3, 4, 5, 6, 7, 8, 9, 10, [11, 12]]\\n\"\n",
      "     ]\n",
      "    }\n",
      "   ],\n",
      "   \"source\": [\n",
      "    \"L.append([11,12])\\n\",\n",
      "    \"print(L)\"\n",
      "   ]\n",
      "  },\n",
      "  {\n",
      "   \"cell_type\": \"code\",\n",
      "   \"execution_count\": 56,\n",
      "   \"id\": \"2615f36f-918c-47c1-a11d-a1ed7734329c\",\n",
      "   \"metadata\": {},\n",
      "   \"outputs\": [\n",
      "    {\n",
      "     \"data\": {\n",
      "      \"text/plain\": [\n",
      "       \"[1, 200, 300, 400, 500]\"\n",
      "      ]\n",
      "     },\n",
      "     \"execution_count\": 56,\n",
      "     \"metadata\": {},\n",
      "     \"output_type\": \"execute_result\"\n",
      "    }\n",
      "   ],\n",
      "   \"source\": [\n",
      "    \"L = [1,2,3,4,5]\\n\",\n",
      "    \"L[-1] = 500\\n\",\n",
      "    \"L[1:4] = [200,300,400]\\n\",\n",
      "    \"L\"\n",
      "   ]\n",
      "  },\n",
      "  {\n",
      "   \"cell_type\": \"code\",\n",
      "   \"execution_count\": 55,\n",
      "   \"id\": \"c04389ea-03f2-4031-99bb-06c848324caa\",\n",
      "   \"metadata\": {},\n",
      "   \"outputs\": [\n",
      "    {\n",
      "     \"ename\": \"TypeError\",\n",
      "     \"evalue\": \"'str' object does not support item assignment\",\n",
      "     \"output_type\": \"error\",\n",
      "     \"traceback\": [\n",
      "      \"\\u001b[1;31m---------------------------------------------------------------------------\\u001b[0m\",\n",
      "      \"\\u001b[1;31mTypeError\\u001b[0m                                 Traceback (most recent call last)\",\n",
      "      \"Cell \\u001b[1;32mIn[55], line 2\\u001b[0m\\n\\u001b[0;32m      1\\u001b[0m s \\u001b[38;5;241m=\\u001b[39m \\u001b[38;5;124m\\\"\\u001b[39m\\u001b[38;5;124mhello\\u001b[39m\\u001b[38;5;124m\\\"\\u001b[39m\\n\\u001b[1;32m----> 2\\u001b[0m s[\\u001b[38;5;241m0\\u001b[39m] \\u001b[38;5;241m=\\u001b[39m \\u001b[38;5;124m'\\u001b[39m\\u001b[38;5;124mx\\u001b[39m\\u001b[38;5;124m'\\u001b[39m\\n\\u001b[0;32m      3\\u001b[0m \\u001b[38;5;28mprint\\u001b[39m(s)\\n\",\n",
      "      \"\\u001b[1;31mTypeError\\u001b[0m: 'str' object does not support item assignment\"\n",
      "     ]\n",
      "    }\n",
      "   ],\n",
      "   \"source\": [\n",
      "    \"s = \\\"hello\\\"\\n\",\n",
      "    \"s[0] = 'x'\\n\",\n",
      "    \"print(s)\"\n",
      "   ]\n",
      "  },\n",
      "  {\n",
      "   \"cell_type\": \"code\",\n",
      "   \"execution_count\": 58,\n",
      "   \"id\": \"831aba4a-c199-4073-8796-ca1de1d04219\",\n",
      "   \"metadata\": {},\n",
      "   \"outputs\": [\n",
      "    {\n",
      "     \"name\": \"stdout\",\n",
      "     \"output_type\": \"stream\",\n",
      "     \"text\": [\n",
      "      \"[1, 2, 3, 4, 5, 6]\\n\"\n",
      "     ]\n",
      "    }\n",
      "   ],\n",
      "   \"source\": [\n",
      "    \"L = [1,2,3,4,5,6]\\n\",\n",
      "    \"print(L)\\n\"\n",
      "   ]\n",
      "  },\n",
      "  {\n",
      "   \"cell_type\": \"code\",\n",
      "   \"execution_count\": 59,\n",
      "   \"id\": \"f13429f1-e2bd-4ff9-9a82-2f5a7db19d15\",\n",
      "   \"metadata\": {},\n",
      "   \"outputs\": [\n",
      "    {\n",
      "     \"ename\": \"NameError\",\n",
      "     \"evalue\": \"name 'L' is not defined\",\n",
      "     \"output_type\": \"error\",\n",
      "     \"traceback\": [\n",
      "      \"\\u001b[1;31m---------------------------------------------------------------------------\\u001b[0m\",\n",
      "      \"\\u001b[1;31mNameError\\u001b[0m                                 Traceback (most recent call last)\",\n",
      "      \"Cell \\u001b[1;32mIn[59], line 2\\u001b[0m\\n\\u001b[0;32m      1\\u001b[0m \\u001b[38;5;28;01mdel\\u001b[39;00m(L)\\n\\u001b[1;32m----> 2\\u001b[0m \\u001b[38;5;28mprint\\u001b[39m(L)\\n\",\n",
      "      \"\\u001b[1;31mNameError\\u001b[0m: name 'L' is not defined\"\n",
      "     ]\n",
      "    }\n",
      "   ],\n",
      "   \"source\": [\n",
      "    \"del(L)\\n\",\n",
      "    \"print(L)\"\n",
      "   ]\n",
      "  },\n",
      "  {\n",
      "   \"cell_type\": \"code\",\n",
      "   \"execution_count\": 71,\n",
      "   \"id\": \"2da0a92d-cace-45f8-92e7-2911f51bfe70\",\n",
      "   \"metadata\": {},\n",
      "   \"outputs\": [\n",
      "    {\n",
      "     \"name\": \"stdout\",\n",
      "     \"output_type\": \"stream\",\n",
      "     \"text\": [\n",
      "      \"[1, 2, 3, 4, 5, 7]\\n\"\n",
      "     ]\n",
      "    }\n",
      "   ],\n",
      "   \"source\": [\n",
      "    \"L = [1,2,3,4,5,6,7]\\n\",\n",
      "    \"del L[-2]\\n\",\n",
      "    \"print(L)\"\n",
      "   ]\n",
      "  },\n",
      "  {\n",
      "   \"cell_type\": \"code\",\n",
      "   \"execution_count\": 72,\n",
      "   \"id\": \"bead6cb6-2110-48d0-b5b5-9ebcaf9033fe\",\n",
      "   \"metadata\": {},\n",
      "   \"outputs\": [\n",
      "    {\n",
      "     \"name\": \"stdout\",\n",
      "     \"output_type\": \"stream\",\n",
      "     \"text\": [\n",
      "      \"[1, 4, 5, 7]\\n\"\n",
      "     ]\n",
      "    }\n",
      "   ],\n",
      "   \"source\": [\n",
      "    \"del L[1:3]\\n\",\n",
      "    \"print(L)\"\n",
      "   ]\n",
      "  },\n",
      "  {\n",
      "   \"cell_type\": \"code\",\n",
      "   \"execution_count\": 73,\n",
      "   \"id\": \"cd08f16d-3750-4609-9e24-61dedcceb466\",\n",
      "   \"metadata\": {},\n",
      "   \"outputs\": [\n",
      "    {\n",
      "     \"name\": \"stdout\",\n",
      "     \"output_type\": \"stream\",\n",
      "     \"text\": [\n",
      "      \"[1, 2, 3, 4, 6]\\n\"\n",
      "     ]\n",
      "    }\n",
      "   ],\n",
      "   \"source\": [\n",
      "    \"L = [1,2,3,4,5,6]\\n\",\n",
      "    \"L.remove(5)\\n\",\n",
      "    \"print(L)\"\n",
      "   ]\n",
      "  },\n",
      "  {\n",
      "   \"cell_type\": \"code\",\n",
      "   \"execution_count\": 74,\n",
      "   \"id\": \"363ece92-a2b1-43af-a195-130059506926\",\n",
      "   \"metadata\": {},\n",
      "   \"outputs\": [\n",
      "    {\n",
      "     \"name\": \"stdout\",\n",
      "     \"output_type\": \"stream\",\n",
      "     \"text\": [\n",
      "      \"[1, 2, 3, 4]\\n\"\n",
      "     ]\n",
      "    }\n",
      "   ],\n",
      "   \"source\": [\n",
      "    \"L.pop()\\n\",\n",
      "    \"print(L)\"\n",
      "   ]\n",
      "  },\n",
      "  {\n",
      "   \"cell_type\": \"code\",\n",
      "   \"execution_count\": 75,\n",
      "   \"id\": \"14ac933a-5d61-466b-b386-c632e6cc98b0\",\n",
      "   \"metadata\": {},\n",
      "   \"outputs\": [\n",
      "    {\n",
      "     \"name\": \"stdout\",\n",
      "     \"output_type\": \"stream\",\n",
      "     \"text\": [\n",
      "      \"[]\\n\"\n",
      "     ]\n",
      "    }\n",
      "   ],\n",
      "   \"source\": [\n",
      "    \"L.clear()\\n\",\n",
      "    \"print(L)\"\n",
      "   ]\n",
      "  },\n",
      "  {\n",
      "   \"cell_type\": \"code\",\n",
      "   \"execution_count\": 76,\n",
      "   \"id\": \"503695a6-08e0-436c-a5ff-d8a2b22db9bd\",\n",
      "   \"metadata\": {},\n",
      "   \"outputs\": [\n",
      "    {\n",
      "     \"name\": \"stdout\",\n",
      "     \"output_type\": \"stream\",\n",
      "     \"text\": [\n",
      "      \"True\\n\"\n",
      "     ]\n",
      "    }\n",
      "   ],\n",
      "   \"source\": [\n",
      "    \"L = [1,2,3,4,5,6]\\n\",\n",
      "    \"L1 = [1,2,3,4,[5,6]]\\n\",\n",
      "    \"print([5,6] in L1)\"\n",
      "   ]\n",
      "  },\n",
      "  {\n",
      "   \"cell_type\": \"code\",\n",
      "   \"execution_count\": 79,\n",
      "   \"id\": \"a9072c45-7324-444d-bcf5-98f5e74fa6c8\",\n",
      "   \"metadata\": {},\n",
      "   \"outputs\": [\n",
      "    {\n",
      "     \"name\": \"stdout\",\n",
      "     \"output_type\": \"stream\",\n",
      "     \"text\": [\n",
      "      \"[2, 1, 3, 5, 0]\\n\",\n",
      "      \"[0, 1, 2, 3, 5]\\n\",\n",
      "      \"[2, 1, 3, 5, 0]\\n\",\n",
      "      \"[0, 1, 2, 3, 5]\\n\"\n",
      "     ]\n",
      "    }\n",
      "   ],\n",
      "   \"source\": [\n",
      "    \"L = [2,1,3,5,0]\\n\",\n",
      "    \"print(L)\\n\",\n",
      "    \"print(sorted(L))\\n\",\n",
      "    \"print(L)\\n\",\n",
      "    \"L.sort()\\n\",\n",
      "    \"print(L)\"\n",
      "   ]\n",
      "  },\n",
      "  {\n",
      "   \"cell_type\": \"code\",\n",
      "   \"execution_count\": 80,\n",
      "   \"id\": \"507c75d4-931b-4e74-b7bf-fd1f6d44100a\",\n",
      "   \"metadata\": {},\n",
      "   \"outputs\": [\n",
      "    {\n",
      "     \"name\": \"stdout\",\n",
      "     \"output_type\": \"stream\",\n",
      "     \"text\": [\n",
      "      \"[1, 2, 3, 4, 5, 6, 7, 8, 9, 10]\\n\"\n",
      "     ]\n",
      "    }\n",
      "   ],\n",
      "   \"source\": [\n",
      "    \"L = []\\n\",\n",
      "    \"for i in range(1,11):\\n\",\n",
      "    \"    L.append(i)\\n\",\n",
      "    \"print(L)\"\n",
      "   ]\n",
      "  },\n",
      "  {\n",
      "   \"cell_type\": \"code\",\n",
      "   \"execution_count\": 81,\n",
      "   \"id\": \"23794476-6a3d-4439-b5f7-ef51480c58f1\",\n",
      "   \"metadata\": {},\n",
      "   \"outputs\": [\n",
      "    {\n",
      "     \"data\": {\n",
      "      \"text/plain\": [\n",
      "       \"[1, 2, 3, 4, 5, 6, 7, 8, 9, 10]\"\n",
      "      ]\n",
      "     },\n",
      "     \"execution_count\": 81,\n",
      "     \"metadata\": {},\n",
      "     \"output_type\": \"execute_result\"\n",
      "    }\n",
      "   ],\n",
      "   \"source\": [\n",
      "    \"[i for i in range(1,11)]\"\n",
      "   ]\n",
      "  },\n",
      "  {\n",
      "   \"cell_type\": \"code\",\n",
      "   \"execution_count\": 82,\n",
      "   \"id\": \"e9d966e8-1d47-4453-ade6-b4ff4327beda\",\n",
      "   \"metadata\": {},\n",
      "   \"outputs\": [\n",
      "    {\n",
      "     \"data\": {\n",
      "      \"text/plain\": [\n",
      "       \"[1, 4, 9, 16, 25]\"\n",
      "      ]\n",
      "     },\n",
      "     \"execution_count\": 82,\n",
      "     \"metadata\": {},\n",
      "     \"output_type\": \"execute_result\"\n",
      "    }\n",
      "   ],\n",
      "   \"source\": [\n",
      "    \"L = [1,2,3,4,5]\\n\",\n",
      "    \"[i**2 for i in L]\"\n",
      "   ]\n",
      "  },\n",
      "  {\n",
      "   \"cell_type\": \"code\",\n",
      "   \"execution_count\": 87,\n",
      "   \"id\": \"16ea81fe-9e11-46e0-920b-5bf6619d1232\",\n",
      "   \"metadata\": {},\n",
      "   \"outputs\": [\n",
      "    {\n",
      "     \"data\": {\n",
      "      \"text/plain\": [\n",
      "       \"[5, 10, 15, 20, 25, 30, 35, 40, 45, 50]\"\n",
      "      ]\n",
      "     },\n",
      "     \"execution_count\": 87,\n",
      "     \"metadata\": {},\n",
      "     \"output_type\": \"execute_result\"\n",
      "    }\n",
      "   ],\n",
      "   \"source\": [\n",
      "    \"[i for i in range(1,51)if i%5 == 0]\"\n",
      "   ]\n",
      "  },\n",
      "  {\n",
      "   \"cell_type\": \"code\",\n",
      "   \"execution_count\": null,\n",
      "   \"id\": \"d5537038-68d1-4d1c-9419-ed7b0ffacf45\",\n",
      "   \"metadata\": {},\n",
      "   \"outputs\": [],\n",
      "   \"source\": []\n",
      "  }\n",
      " ],\n",
      " \"metadata\": {\n",
      "  \"kernelspec\": {\n",
      "   \"display_name\": \"Python [conda env:base] *\",\n",
      "   \"language\": \"python\",\n",
      "   \"name\": \"conda-base-py\"\n",
      "  },\n",
      "  \"language_info\": {\n",
      "   \"codemirror_mode\": {\n",
      "    \"name\": \"ipython\",\n",
      "    \"version\": 3\n",
      "   },\n",
      "   \"file_extension\": \".py\",\n",
      "   \"mimetype\": \"text/x-python\",\n",
      "   \"name\": \"python\",\n",
      "   \"nbconvert_exporter\": \"python\",\n",
      "   \"pygments_lexer\": \"ipython3\",\n",
      "   \"version\": \"3.12.7\"\n",
      "  }\n",
      " },\n",
      " \"nbformat\": 4,\n",
      " \"nbformat_minor\": 5\n",
      "}\n",
      "\n"
     ]
    }
   ],
   "source": [
    "#41\n",
    "f = open(\"List.ipynb\",\"r\")\n",
    "content = f.read()\n",
    "print(content)\n",
    "f.close()"
   ]
  },
  {
   "cell_type": "code",
   "execution_count": 134,
   "id": "80b771ca-d844-41f8-8537-59424f2964d1",
   "metadata": {},
   "outputs": [
    {
     "name": "stdout",
     "output_type": "stream",
     "text": [
      "1143\n"
     ]
    }
   ],
   "source": [
    "# 42\n",
    "f = open(\"List.ipynb\", \"r\")\n",
    "text = f.read()\n",
    "words = text.split()\n",
    "print(len(words))\n",
    "f.close()\n"
   ]
  },
  {
   "cell_type": "code",
   "execution_count": 137,
   "id": "bdcf8647-aaa2-4731-a947-bac911e8cbd9",
   "metadata": {},
   "outputs": [],
   "source": [
    "# 43\n",
    "f1 = open(\"List.ipynb\", \"r\")\n",
    "f2 = open(\"Numpy.ipynb\", \"w\")\n",
    "f2.write(f1.read())\n",
    "f1.close()\n",
    "f2.close()"
   ]
  },
  {
   "cell_type": "code",
   "execution_count": 138,
   "id": "5a647c7c-b8bc-480f-9970-dc511133d4de",
   "metadata": {},
   "outputs": [
    {
     "name": "stdout",
     "output_type": "stream",
     "text": [
      "\"[1, 2, 3, 4, 5, 6, 7, 8, 9, 10, [11, 12]]\\n\"\n",
      "\"evalue\": \"'str' object does not support item assignment\",\n",
      "\"\\u001b[1;31m---------------------------------------------------------------------------\\u001b[0m\",\n",
      "\"\\u001b[1;31mTypeError\\u001b[0m                                 Traceback (most recent call last)\",\n",
      "\"Cell \\u001b[1;32mIn[55], line 2\\u001b[0m\\n\\u001b[0;32m      1\\u001b[0m s \\u001b[38;5;241m=\\u001b[39m \\u001b[38;5;124m\\\"\\u001b[39m\\u001b[38;5;124mhello\\u001b[39m\\u001b[38;5;124m\\\"\\u001b[39m\\n\\u001b[1;32m----> 2\\u001b[0m s[\\u001b[38;5;241m0\\u001b[39m] \\u001b[38;5;241m=\\u001b[39m \\u001b[38;5;124m'\\u001b[39m\\u001b[38;5;124mx\\u001b[39m\\u001b[38;5;124m'\\u001b[39m\\n\\u001b[0;32m      3\\u001b[0m \\u001b[38;5;28mprint\\u001b[39m(s)\\n\",\n",
      "\"\\u001b[1;31mTypeError\\u001b[0m: 'str' object does not support item assignment\"\n",
      "\"\\u001b[1;31m---------------------------------------------------------------------------\\u001b[0m\",\n",
      "\"\\u001b[1;31mNameError\\u001b[0m                                 Traceback (most recent call last)\",\n",
      "\"Cell \\u001b[1;32mIn[59], line 2\\u001b[0m\\n\\u001b[0;32m      1\\u001b[0m \\u001b[38;5;28;01mdel\\u001b[39;00m(L)\\n\\u001b[1;32m----> 2\\u001b[0m \\u001b[38;5;28mprint\\u001b[39m(L)\\n\",\n",
      "\"\\u001b[1;31mNameError\\u001b[0m: name 'L' is not defined\"\n"
     ]
    }
   ],
   "source": [
    "# 44\n",
    "f = open(\"List.ipynb\", \"r\")\n",
    "for line in f:\n",
    "    if len(line) > 50:\n",
    "        print(line.strip())\n",
    "f.close()\n"
   ]
  },
  {
   "cell_type": "code",
   "execution_count": 139,
   "id": "ed1faf4c-2c21-4088-b930-81e4929aee31",
   "metadata": {},
   "outputs": [],
   "source": [
    "#45\n",
    "lines = [\"Hello\", \"World\", \"Python\"]\n",
    "f = open(\"output.txt\", \"w\")\n",
    "for line in lines:\n",
    "    f.write(line + \"\\n\")\n",
    "f.close()"
   ]
  },
  {
   "cell_type": "code",
   "execution_count": 140,
   "id": "0bd0dde9-ca38-48c8-a3c4-9adefad09f0f",
   "metadata": {},
   "outputs": [
    {
     "name": "stdin",
     "output_type": "stream",
     "text": [
      "Enter numerator:  20\n",
      "Enter denominator:  20\n"
     ]
    },
    {
     "name": "stdout",
     "output_type": "stream",
     "text": [
      "1.0\n"
     ]
    }
   ],
   "source": [
    "# 46\n",
    "a = int(input(\"Enter numerator: \"))\n",
    "b = int(input(\"Enter denominator: \"))\n",
    "try:\n",
    "    print(a / b)\n",
    "except ZeroDivisionError:\n",
    "    print(\"Cannot divide by zero\")\n"
   ]
  },
  {
   "cell_type": "code",
   "execution_count": 141,
   "id": "c2b81a89-fc70-4904-b67e-db84fb01aa0c",
   "metadata": {},
   "outputs": [
    {
     "name": "stdin",
     "output_type": "stream",
     "text": [
      "Enter a number:  20\n"
     ]
    },
    {
     "name": "stdout",
     "output_type": "stream",
     "text": [
      "You entered: 20\n"
     ]
    }
   ],
   "source": [
    "# 47\n",
    "try:\n",
    "    num = int(input(\"Enter a number: \"))\n",
    "    print(\"You entered:\", num)\n",
    "except ValueError:\n",
    "    print(\"Invalid input\")\n"
   ]
  },
  {
   "cell_type": "code",
   "execution_count": 142,
   "id": "d6ae6062-f256-4680-9d96-29f48e08bf80",
   "metadata": {},
   "outputs": [
    {
     "name": "stdout",
     "output_type": "stream",
     "text": [
      "File not found\n"
     ]
    }
   ],
   "source": [
    "# 48\n",
    "try:\n",
    "    f = open(\"nofile.txt\", \"r\")\n",
    "    print(f.read())\n",
    "    f.close()\n",
    "except FileNotFoundError:\n",
    "    print(\"File not found\")\n"
   ]
  },
  {
   "cell_type": "code",
   "execution_count": 143,
   "id": "bcf81dbd-37f4-4379-9797-8970e20fd715",
   "metadata": {},
   "outputs": [
    {
     "name": "stdout",
     "output_type": "stream",
     "text": [
      "Index out of range\n"
     ]
    }
   ],
   "source": [
    "# 49\n",
    "lst = [1, 2, 3]\n",
    "try:\n",
    "    print(lst[5])\n",
    "except IndexError:\n",
    "    print(\"Index out of range\")\n"
   ]
  },
  {
   "cell_type": "code",
   "execution_count": 144,
   "id": "1fcac5ff-c5df-4bca-b120-f0caf50bf8ac",
   "metadata": {},
   "outputs": [
    {
     "name": "stdin",
     "output_type": "stream",
     "text": [
      "Enter a number:  10\n",
      "Enter another number:  20\n"
     ]
    },
    {
     "name": "stdout",
     "output_type": "stream",
     "text": [
      "0.5\n",
      "This always runs\n"
     ]
    }
   ],
   "source": [
    "# 50\n",
    "try:\n",
    "    x = int(input(\"Enter a number: \"))\n",
    "    y = int(input(\"Enter another number: \"))\n",
    "    print(x / y)\n",
    "except ZeroDivisionError:\n",
    "    print(\"Division by zero\")\n",
    "finally:\n",
    "    print(\"This always runs\")\n"
   ]
  },
  {
   "cell_type": "code",
   "execution_count": null,
   "id": "46c69cda-277e-4b74-adfd-a6f0e2de26aa",
   "metadata": {},
   "outputs": [],
   "source": []
  }
 ],
 "metadata": {
  "kernelspec": {
   "display_name": "Python [conda env:base] *",
   "language": "python",
   "name": "conda-base-py"
  },
  "language_info": {
   "codemirror_mode": {
    "name": "ipython",
    "version": 3
   },
   "file_extension": ".py",
   "mimetype": "text/x-python",
   "name": "python",
   "nbconvert_exporter": "python",
   "pygments_lexer": "ipython3",
   "version": "3.12.7"
  }
 },
 "nbformat": 4,
 "nbformat_minor": 5
}
