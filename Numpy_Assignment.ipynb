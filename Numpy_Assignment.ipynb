{
 "cells": [
  {
   "cell_type": "code",
   "execution_count": 145,
   "id": "bac30a3f-a39e-4bb5-bebf-11cc4945c378",
   "metadata": {},
   "outputs": [],
   "source": [
    "import numpy as np"
   ]
  },
  {
   "cell_type": "code",
   "execution_count": 146,
   "id": "9008ed6d-807b-4e38-8b47-1423ed61bfad",
   "metadata": {},
   "outputs": [
    {
     "name": "stdout",
     "output_type": "stream",
     "text": [
      "int32\n"
     ]
    }
   ],
   "source": [
    "# Create array from 0 to 5 and print data type\n",
    "arr = np.array([0, 1, 2, 3, 4, 5])\n",
    "print(arr.dtype)"
   ]
  },
  {
   "cell_type": "code",
   "execution_count": 147,
   "id": "bfaf429a-bc68-4be3-9224-4162d318b33f",
   "metadata": {},
   "outputs": [
    {
     "name": "stdout",
     "output_type": "stream",
     "text": [
      "True\n"
     ]
    }
   ],
   "source": [
    "# 2. Check if dtype is float64\n",
    "arr = np.array([1.0, 2.0, 3.0])\n",
    "print(arr.dtype == np.float64)"
   ]
  },
  {
   "cell_type": "code",
   "execution_count": 148,
   "id": "938fd6e1-910b-483d-b3bb-0e0f661c7c1e",
   "metadata": {},
   "outputs": [
    {
     "name": "stdout",
     "output_type": "stream",
     "text": [
      "[1.+2.j 3.+4.j 5.+6.j]\n"
     ]
    }
   ],
   "source": [
    "# 3. Create complex128 array\n",
    "arr = np.array([1+2j, 3+4j, 5+6j], dtype=np.complex128)\n",
    "print(arr)"
   ]
  },
  {
   "cell_type": "code",
   "execution_count": 149,
   "id": "8e538205-48b5-4c1d-8d4c-1f38e644753b",
   "metadata": {},
   "outputs": [
    {
     "name": "stdout",
     "output_type": "stream",
     "text": [
      "float32\n"
     ]
    }
   ],
   "source": [
    "# 4. Convert int array to float32\n",
    "arr = np.array([1, 2, 3])\n",
    "arr = arr.astype(np.float32)\n",
    "print(arr.dtype)"
   ]
  },
  {
   "cell_type": "code",
   "execution_count": 150,
   "id": "cc810039-b93f-4b51-8bbc-cebdb4a98ce8",
   "metadata": {},
   "outputs": [
    {
     "name": "stdout",
     "output_type": "stream",
     "text": [
      "float32\n"
     ]
    }
   ],
   "source": [
    "# 5. Convert float64 to float32\n",
    "arr = np.array([1.1, 2.2, 3.3], dtype=np.float64)\n",
    "arr = arr.astype(np.float32)\n",
    "print(arr.dtype)\n"
   ]
  },
  {
   "cell_type": "code",
   "execution_count": 151,
   "id": "0244d0c8-8178-4a24-b810-5581fca884a6",
   "metadata": {},
   "outputs": [],
   "source": [
    "# 6. Return shape, size, dtype\n",
    "def array_attributes(a):\n",
    "    return a.shape, a.size, a.dtype"
   ]
  },
  {
   "cell_type": "code",
   "execution_count": 152,
   "id": "e3fff265-6fcf-4027-9687-938d625a392d",
   "metadata": {},
   "outputs": [],
   "source": [
    "# 7. Return dimensions of array\n",
    "def array_dimension(a):\n",
    "    return a.ndim"
   ]
  },
  {
   "cell_type": "code",
   "execution_count": 153,
   "id": "f1e8754b-f684-4d3c-8bed-50066c58eb42",
   "metadata": {},
   "outputs": [],
   "source": [
    "# 8. Return item size and total bytes\n",
    "def item_size_info(a):\n",
    "    return a.itemsize, a.nbytes"
   ]
  },
  {
   "cell_type": "code",
   "execution_count": 154,
   "id": "4339a1db-e6aa-48fa-85c0-64eeb925b649",
   "metadata": {},
   "outputs": [],
   "source": [
    "# 9. Return array strides\n",
    "def array_strides(a):\n",
    "    return a.strides"
   ]
  },
  {
   "cell_type": "code",
   "execution_count": 155,
   "id": "f8b10382-7891-4ddc-be8c-0047dcecf595",
   "metadata": {},
   "outputs": [],
   "source": [
    "# 10. Return shape and strides\n",
    "def shape_stride_relationship(a):\n",
    "    return a.shape, a.strides\n"
   ]
  },
  {
   "cell_type": "code",
   "execution_count": 156,
   "id": "f708a691-943d-4754-bbd9-cd476ebd1dc8",
   "metadata": {},
   "outputs": [],
   "source": [
    "# 11. Create zeros array with n elements\n",
    "def create_zeros_array(n):\n",
    "    return np.zeros(n)"
   ]
  },
  {
   "cell_type": "code",
   "execution_count": 157,
   "id": "baf65fa3-bbfb-413f-85f4-7654865180ba",
   "metadata": {},
   "outputs": [],
   "source": [
    "# 12. Create 2D ones matrix\n",
    "def create_ones_matrix(rows, cols):\n",
    "    return np.ones((rows, cols))"
   ]
  },
  {
   "cell_type": "code",
   "execution_count": 158,
   "id": "b63a679c-5d6e-459d-aaa5-9b46709f0521",
   "metadata": {},
   "outputs": [],
   "source": [
    "# 13. Generate array using range\n",
    "def generate_range_array(start, stop, step):\n",
    "    return np.arange(start, stop, step)"
   ]
  },
  {
   "cell_type": "code",
   "execution_count": 159,
   "id": "c5931b76-30de-46a6-bbb5-e2ecda8abb74",
   "metadata": {},
   "outputs": [],
   "source": [
    "# 14. Generate linear spaced array\n",
    "def generate_linear_space(start, stop, num):\n",
    "    return np.linspace(start, stop, num)"
   ]
  },
  {
   "cell_type": "code",
   "execution_count": 160,
   "id": "0095e7f2-6d24-4b2e-b847-4331c859d156",
   "metadata": {},
   "outputs": [],
   "source": [
    "# 15. Identity matrix using eye\n",
    "def create_identity_matrix(n):\n",
    "    return np.eye(n)\n"
   ]
  },
  {
   "cell_type": "code",
   "execution_count": 161,
   "id": "f7d63558-82e8-4802-a7ef-24a3a2d10237",
   "metadata": {},
   "outputs": [],
   "source": [
    "# 16. Convert list to numpy array\n",
    "def list_to_array(lst):\n",
    "    return np.array(lst)\n"
   ]
  },
  {
   "cell_type": "code",
   "execution_count": 162,
   "id": "db5447df-4208-493e-add2-16023891c579",
   "metadata": {},
   "outputs": [
    {
     "name": "stdout",
     "output_type": "stream",
     "text": [
      "[1 2 3 4]\n"
     ]
    }
   ],
   "source": [
    "# 17. Create a view of numpy array\n",
    "a = np.array([1, 2, 3, 4])\n",
    "b = a.view()\n",
    "print(b)"
   ]
  },
  {
   "cell_type": "code",
   "execution_count": 163,
   "id": "5f54e403-a574-41d8-b56b-b90a4ef5362d",
   "metadata": {},
   "outputs": [],
   "source": [
    "# 18. Concatenate two arrays along axis\n",
    "def concatenate_arrays(a1, a2, axis):\n",
    "    return np.concatenate((a1, a2), axis=axis)"
   ]
  },
  {
   "cell_type": "code",
   "execution_count": 164,
   "id": "31caa687-32bd-47d6-a410-196ef186ef5c",
   "metadata": {},
   "outputs": [
    {
     "name": "stdout",
     "output_type": "stream",
     "text": [
      "[[1 2 5]\n",
      " [3 4 6]]\n"
     ]
    }
   ],
   "source": [
    "# 19. Concatenate arrays with different shapes\n",
    "x = np.array([[1, 2], [3, 4]])\n",
    "y = np.array([[5], [6]])\n",
    "print(np.concatenate((x, y), axis=1))"
   ]
  },
  {
   "cell_type": "code",
   "execution_count": 165,
   "id": "73d15807-98a3-43e8-a361-d960a8c9ce48",
   "metadata": {},
   "outputs": [
    {
     "name": "stdout",
     "output_type": "stream",
     "text": [
      "[[1 2]\n",
      " [3 4]]\n"
     ]
    }
   ],
   "source": [
    "# 20. Vertically stack arrays\n",
    "arr_list = [np.array([1, 2]), np.array([3, 4])]\n",
    "print(np.vstack(arr_list))"
   ]
  },
  {
   "cell_type": "code",
   "execution_count": 166,
   "id": "39c7d8a7-b7b3-41e7-811d-9f21fe745583",
   "metadata": {},
   "outputs": [],
   "source": [
    "# 21. Generate array in range with step\n",
    "def generate_range(start, end, step):\n",
    "    return np.arange(start, end + 1, step)"
   ]
  },
  {
   "cell_type": "code",
   "execution_count": 167,
   "id": "dc61d33d-55a3-44c1-8b23-c6dfd15c29b4",
   "metadata": {},
   "outputs": [
    {
     "name": "stdout",
     "output_type": "stream",
     "text": [
      "[0.         0.11111111 0.22222222 0.33333333 0.44444444 0.55555556\n",
      " 0.66666667 0.77777778 0.88888889 1.        ]\n"
     ]
    }
   ],
   "source": [
    "# 22. 10 equally spaced values from 0 to 1\n",
    "print(np.linspace(0, 1, 10))\n"
   ]
  },
  {
   "cell_type": "code",
   "execution_count": 168,
   "id": "8461e008-1f34-4c26-9ce2-bd95e4d802a2",
   "metadata": {},
   "outputs": [
    {
     "name": "stdout",
     "output_type": "stream",
     "text": [
      "[   1.            5.62341325   31.6227766   177.827941   1000.        ]\n"
     ]
    }
   ],
   "source": [
    "# 23. Logarithmic spacing between 1 and 1000\n",
    "print(np.logspace(0, 3, 5))\n"
   ]
  },
  {
   "cell_type": "code",
   "execution_count": 169,
   "id": "71ec3cda-4f89-4a19-8b63-934447917050",
   "metadata": {},
   "outputs": [
    {
     "name": "stdout",
     "output_type": "stream",
     "text": [
      "    0   1   2\n",
      "0  25  31  32\n",
      "1   3  27  66\n",
      "2  80  60  79\n",
      "3  39  12  86\n",
      "4  62  87  95\n"
     ]
    }
   ],
   "source": [
    "# 24. Create DataFrame from NumPy array\n",
    "import pandas as pd\n",
    "data = np.random.randint(1, 101, size=(5, 3))\n",
    "df = pd.DataFrame(data)\n",
    "print(df)"
   ]
  },
  {
   "cell_type": "code",
   "execution_count": 170,
   "id": "34710d78-2bc7-4aa1-b2f9-4aad5882bfb0",
   "metadata": {},
   "outputs": [],
   "source": [
    "# 25. Replace negative values with 0\n",
    "def replace_negatives_with_zero(arr):\n",
    "    arr[arr < 0] = 0\n",
    "    return arr"
   ]
  },
  {
   "cell_type": "code",
   "execution_count": 171,
   "id": "2bb39ac4-06bb-4892-ada2-2df14bae154d",
   "metadata": {},
   "outputs": [
    {
     "name": "stdout",
     "output_type": "stream",
     "text": [
      "30\n"
     ]
    }
   ],
   "source": [
    "# 26. Access 3rd element from array\n",
    "arr = np.array([10, 20, 30, 40])\n",
    "print(arr[2])"
   ]
  },
  {
   "cell_type": "code",
   "execution_count": 172,
   "id": "80a8e89e-8573-41b7-8db0-84164f0a137e",
   "metadata": {},
   "outputs": [
    {
     "name": "stdout",
     "output_type": "stream",
     "text": [
      "6\n"
     ]
    }
   ],
   "source": [
    "# 27. Access element at (1, 2)\n",
    "arr2d = np.array([[1, 2, 3], [4, 5, 6]])\n",
    "print(arr2d[1, 2])\n"
   ]
  },
  {
   "cell_type": "code",
   "execution_count": 173,
   "id": "a2782605-101e-42c2-966e-3c77abebacb8",
   "metadata": {},
   "outputs": [
    {
     "name": "stdout",
     "output_type": "stream",
     "text": [
      "[6 8]\n"
     ]
    }
   ],
   "source": [
    "# 28. Elements greater than 5\n",
    "arr = np.array([1, 6, 8, 3])\n",
    "print(arr[arr > 5])\n"
   ]
  },
  {
   "cell_type": "code",
   "execution_count": 174,
   "id": "42830a13-77f9-46eb-bf8d-29c9b0a3f7c4",
   "metadata": {},
   "outputs": [
    {
     "name": "stdout",
     "output_type": "stream",
     "text": [
      "[2 3 4 5]\n"
     ]
    }
   ],
   "source": [
    "# 29. Slice index 2 to 5 inclusive\n",
    "arr = np.array([0, 1, 2, 3, 4, 5, 6])\n",
    "print(arr[2:6])"
   ]
  },
  {
   "cell_type": "code",
   "execution_count": 175,
   "id": "4f37fffe-0276-4a4c-8ad0-730405480882",
   "metadata": {},
   "outputs": [
    {
     "name": "stdout",
     "output_type": "stream",
     "text": [
      "[[2 3]\n",
      " [5 6]]\n"
     ]
    }
   ],
   "source": [
    "# 30. Slice sub-array [[2, 3], [5, 6]]\n",
    "arr2d = np.array([[1, 2, 3], [4, 5, 6]])\n",
    "print(arr2d[:, 1:])"
   ]
  },
  {
   "cell_type": "code",
   "execution_count": 176,
   "id": "c94d8319-c1be-4033-8785-844563bac10c",
   "metadata": {},
   "outputs": [
    {
     "name": "stdout",
     "output_type": "stream",
     "text": [
      "[10 40]\n"
     ]
    }
   ],
   "source": [
    "# 31. Extract elements using indices\n",
    "arr = np.array([[10, 20], [30, 40]])\n",
    "indices = [0, 1]\n",
    "print(arr[indices, indices])"
   ]
  },
  {
   "cell_type": "code",
   "execution_count": 177,
   "id": "87746f21-c17e-4768-a9cf-909945b74b85",
   "metadata": {},
   "outputs": [
    {
     "name": "stdout",
     "output_type": "stream",
     "text": [
      "[10  8]\n"
     ]
    }
   ],
   "source": [
    "# 32. Filter elements > threshold\n",
    "arr = np.array([1, 10, 5, 8])\n",
    "print(arr[arr > 5])\n"
   ]
  },
  {
   "cell_type": "code",
   "execution_count": 178,
   "id": "651eb231-07fe-42af-96da-d3fe3172a0ed",
   "metadata": {},
   "outputs": [
    {
     "name": "stdout",
     "output_type": "stream",
     "text": [
      "[ 5 15]\n"
     ]
    }
   ],
   "source": [
    "# 33. Specific elements from 3D using index arrays\n",
    "arr3d = np.arange(27).reshape(3, 3, 3)\n",
    "print(arr3d[[0, 1], [1, 2], [2, 0]])"
   ]
  },
  {
   "cell_type": "code",
   "execution_count": 179,
   "id": "d0080946-3609-4e8d-9506-ba45f4bf62ce",
   "metadata": {},
   "outputs": [
    {
     "name": "stdout",
     "output_type": "stream",
     "text": [
      "[7 5]\n"
     ]
    }
   ],
   "source": [
    "# 34. Elements satisfying two conditions\n",
    "arr = np.array([2, 7, 5, 10])\n",
    "print(arr[(arr > 3) & (arr < 9)])"
   ]
  },
  {
   "cell_type": "code",
   "execution_count": 180,
   "id": "68f3cc87-cb85-4470-898e-0fd15a062f53",
   "metadata": {},
   "outputs": [
    {
     "name": "stdout",
     "output_type": "stream",
     "text": [
      "[20 60]\n"
     ]
    }
   ],
   "source": [
    "# 35. Extract from 2D using row and col indices\n",
    "arr2d = np.array([[10, 20, 30], [40, 50, 60]])\n",
    "rows = [0, 1]\n",
    "cols = [1, 2]\n",
    "print(arr2d[rows, cols])"
   ]
  },
  {
   "cell_type": "code",
   "execution_count": 181,
   "id": "46a1ecb0-f6c6-4038-a631-5d511cfb1680",
   "metadata": {},
   "outputs": [
    {
     "name": "stdout",
     "output_type": "stream",
     "text": [
      "[6 7 8]\n"
     ]
    }
   ],
   "source": [
    "# 36. Add 5 using broadcasting\n",
    "arr = np.array([1, 2, 3])\n",
    "print(arr + 5)"
   ]
  },
  {
   "cell_type": "code",
   "execution_count": 182,
   "id": "1317433d-7bf0-4286-b041-5567218842ce",
   "metadata": {},
   "outputs": [
    {
     "name": "stdout",
     "output_type": "stream",
     "text": [
      "[[ 1  4  9]\n",
      " [ 4 10 18]\n",
      " [ 7 16 27]]\n"
     ]
    }
   ],
   "source": [
    "# 37. Multiply each row with elements of (1, 3)\n",
    "a = np.array([[1, 2, 3], [4, 5, 6], [7, 8, 9]])\n",
    "b = np.array([[1, 2, 3]])\n",
    "print(a * b)"
   ]
  },
  {
   "cell_type": "code",
   "execution_count": 183,
   "id": "34ea3947-8a92-41e8-ab9e-57a3f357cac0",
   "metadata": {},
   "outputs": [
    {
     "name": "stdout",
     "output_type": "stream",
     "text": [
      "[[2. 3. 4.]\n",
      " [2. 3. 4.]\n",
      " [2. 3. 4.]\n",
      " [2. 3. 4.]]\n"
     ]
    }
   ],
   "source": [
    "# 38. Add (1, 4) to each row of (4, 3)\n",
    "a = np.ones((4, 3))\n",
    "b = np.array([[1, 2, 3]])\n",
    "print(a + b)"
   ]
  },
  {
   "cell_type": "code",
   "execution_count": 184,
   "id": "473020c9-0d71-4e2c-a75c-08ab22fe1a64",
   "metadata": {},
   "outputs": [
    {
     "name": "stdout",
     "output_type": "stream",
     "text": [
      "[[2. 2. 2.]\n",
      " [2. 2. 2.]\n",
      " [2. 2. 2.]]\n"
     ]
    }
   ],
   "source": [
    "# 39. Add (3, 1) and (1, 3)\n",
    "a = np.ones((3, 1))\n",
    "b = np.ones((1, 3))\n",
    "print(a + b)"
   ]
  },
  {
   "cell_type": "code",
   "execution_count": 185,
   "id": "f4bbaafc-d2c1-4892-a503-78aab55a8b95",
   "metadata": {},
   "outputs": [
    {
     "name": "stdout",
     "output_type": "stream",
     "text": [
      "operands could not be broadcast together with shapes (2,3) (2,2) \n"
     ]
    }
   ],
   "source": [
    "# 40. Handle incompatible shape multiplication\n",
    "a = np.ones((2, 3))\n",
    "b = np.ones((2, 2))\n",
    "try:\n",
    "    print(a * b)\n",
    "except ValueError as e:\n",
    "    print(e)"
   ]
  },
  {
   "cell_type": "code",
   "execution_count": 186,
   "id": "8bc3e54e-421b-4feb-af7d-7db34600f430",
   "metadata": {},
   "outputs": [
    {
     "name": "stdout",
     "output_type": "stream",
     "text": [
      "[2. 3.]\n"
     ]
    }
   ],
   "source": [
    "# 41. Column-wise mean\n",
    "arr = np.array([[1, 2], [3, 4]])\n",
    "print(arr.mean(axis=0))"
   ]
  },
  {
   "cell_type": "code",
   "execution_count": 187,
   "id": "84d36a82-16f7-4670-bf25-800dadec11db",
   "metadata": {},
   "outputs": [
    {
     "name": "stdout",
     "output_type": "stream",
     "text": [
      "[2 4]\n"
     ]
    }
   ],
   "source": [
    "# 42. Max in each row\n",
    "print(arr.max(axis=1))"
   ]
  },
  {
   "cell_type": "code",
   "execution_count": 188,
   "id": "1521b59c-1139-47d7-9011-4f16b53f4276",
   "metadata": {},
   "outputs": [
    {
     "name": "stdout",
     "output_type": "stream",
     "text": [
      "[1 1]\n"
     ]
    }
   ],
   "source": [
    "# 43. Indices of max in each col\n",
    "print(arr.argmax(axis=0))"
   ]
  },
  {
   "cell_type": "code",
   "execution_count": 189,
   "id": "72e8e464-1d5d-41ff-8931-2e6dff0cdced",
   "metadata": {},
   "outputs": [
    {
     "name": "stdout",
     "output_type": "stream",
     "text": [
      "[[1 3]\n",
      " [3 7]]\n"
     ]
    }
   ],
   "source": [
    "# 44. Moving sum along rows\n",
    "def moving_sum(arr):\n",
    "    return np.cumsum(arr, axis=1)\n",
    "print(moving_sum(np.array([[1, 2], [3, 4]])))"
   ]
  },
  {
   "cell_type": "code",
   "execution_count": 190,
   "id": "472822da-09fc-485d-9c4b-0c6e0fc119f6",
   "metadata": {},
   "outputs": [
    {
     "name": "stdout",
     "output_type": "stream",
     "text": [
      "[ True  True]\n"
     ]
    }
   ],
   "source": [
    "# 45. Check all elements even in each col\n",
    "arr = np.array([[2, 4], [6, 8]])\n",
    "print(np.all(arr % 2 == 0, axis=0))"
   ]
  },
  {
   "cell_type": "code",
   "execution_count": 191,
   "id": "4b3cc7af-40b7-4be8-b5cc-f7b52e5d501a",
   "metadata": {},
   "outputs": [
    {
     "name": "stdout",
     "output_type": "stream",
     "text": [
      "[[ 0  1  2  3]\n",
      " [ 4  5  6  7]\n",
      " [ 8  9 10 11]]\n"
     ]
    }
   ],
   "source": [
    "# 46. Reshape to m x n\n",
    "arr = np.arange(12)\n",
    "print(arr.reshape(3, 4))"
   ]
  },
  {
   "cell_type": "code",
   "execution_count": 192,
   "id": "0327b917-0193-4466-8f7d-787a51bcfb45",
   "metadata": {},
   "outputs": [
    {
     "name": "stdout",
     "output_type": "stream",
     "text": [
      "[1 2 3 4]\n"
     ]
    }
   ],
   "source": [
    "# 47. Flatten matrix\n",
    "arr2d = np.array([[1, 2], [3, 4]])\n",
    "print(arr2d.flatten())"
   ]
  },
  {
   "cell_type": "code",
   "execution_count": 193,
   "id": "0a4e8556-0a3f-49a9-9894-fa18d184fda2",
   "metadata": {},
   "outputs": [
    {
     "name": "stdout",
     "output_type": "stream",
     "text": [
      "[[1 2]\n",
      " [3 4]]\n"
     ]
    }
   ],
   "source": [
    "# 48. Concatenate along axis\n",
    "arr1 = np.array([[1, 2]])\n",
    "arr2 = np.array([[3, 4]])\n",
    "print(np.concatenate((arr1, arr2), axis=0))"
   ]
  },
  {
   "cell_type": "code",
   "execution_count": 194,
   "id": "c3b06095-2d5e-4efc-8304-e99180272714",
   "metadata": {},
   "outputs": [
    {
     "name": "stdout",
     "output_type": "stream",
     "text": [
      "[array([1, 2]), array([3, 4]), array([5, 6])]\n"
     ]
    }
   ],
   "source": [
    "# 49. Split array into sub-arrays\n",
    "arr = np.array([1, 2, 3, 4, 5, 6])\n",
    "print(np.split(arr, 3))"
   ]
  },
  {
   "cell_type": "code",
   "execution_count": 195,
   "id": "27d56144-380d-42b1-a0ef-e0e4882aabc1",
   "metadata": {},
   "outputs": [
    {
     "name": "stdout",
     "output_type": "stream",
     "text": [
      "[ 1 10  3]\n"
     ]
    }
   ],
   "source": [
    "# 50. Insert and delete elements\n",
    "arr = np.array([1, 2, 3])\n",
    "arr = np.insert(arr, 1, 10)\n",
    "arr = np.delete(arr, 2)\n",
    "print(arr)"
   ]
  },
  {
   "cell_type": "code",
   "execution_count": 196,
   "id": "b6f99bf3-6223-4279-8065-a880075ace19",
   "metadata": {},
   "outputs": [
    {
     "name": "stdout",
     "output_type": "stream",
     "text": [
      "[4 6]\n"
     ]
    }
   ],
   "source": [
    "# 51. Element-wise addition\n",
    "arr1 = np.array([1, 2])\n",
    "arr2 = np.array([3, 4])\n",
    "print(arr1 + arr2)"
   ]
  },
  {
   "cell_type": "code",
   "execution_count": 197,
   "id": "3dd010f9-0847-4a0f-b95d-bdaafe7f2413",
   "metadata": {},
   "outputs": [
    {
     "name": "stdout",
     "output_type": "stream",
     "text": [
      "[-2 -2]\n"
     ]
    }
   ],
   "source": [
    "# 52. Element-wise subtraction\n",
    "print(arr1 - arr2)"
   ]
  },
  {
   "cell_type": "code",
   "execution_count": 198,
   "id": "88337034-6122-475e-935e-b321fab20412",
   "metadata": {},
   "outputs": [
    {
     "name": "stdout",
     "output_type": "stream",
     "text": [
      "[3 8]\n"
     ]
    }
   ],
   "source": [
    "# 53. Element-wise multiplication\n",
    "print(arr1 * arr2)"
   ]
  },
  {
   "cell_type": "code",
   "execution_count": 199,
   "id": "88c020fe-8e7d-40f1-9e3b-550c62ff6c94",
   "metadata": {},
   "outputs": [
    {
     "name": "stdout",
     "output_type": "stream",
     "text": [
      "[0.33333333 0.5       ]\n"
     ]
    }
   ],
   "source": [
    "# 54. Element-wise division\n",
    "print(arr1 / arr2)\n"
   ]
  },
  {
   "cell_type": "code",
   "execution_count": 200,
   "id": "e5f5c2d9-d154-43b2-af62-480b9ee897d2",
   "metadata": {},
   "outputs": [
    {
     "name": "stdout",
     "output_type": "stream",
     "text": [
      "[ 1 16]\n"
     ]
    }
   ],
   "source": [
    "# 55. Element-wise exponentiation\n",
    "print(arr1 ** arr2)"
   ]
  },
  {
   "cell_type": "code",
   "execution_count": 201,
   "id": "c62efc29-0773-49fd-a879-b4a12700c255",
   "metadata": {},
   "outputs": [
    {
     "name": "stdout",
     "output_type": "stream",
     "text": [
      "[1 3 1]\n"
     ]
    }
   ],
   "source": [
    "# 56. Count substring 'a'\n",
    "arr = np.array(['apple', 'banana', 'grape'])\n",
    "print(np.char.count(arr, 'a'))"
   ]
  },
  {
   "cell_type": "code",
   "execution_count": 202,
   "id": "98608e31-b193-4194-a80c-2eb8b5636689",
   "metadata": {},
   "outputs": [
    {
     "name": "stdout",
     "output_type": "stream",
     "text": [
      "['ABC' 'DEF']\n"
     ]
    }
   ],
   "source": [
    "# 57. Extract uppercase\n",
    "arr = np.array(['AbC', 'Def'])\n",
    "print(np.char.upper(arr))"
   ]
  },
  {
   "cell_type": "code",
   "execution_count": 203,
   "id": "9239bc43-b802-42ba-828f-7901de219000",
   "metadata": {},
   "outputs": [
    {
     "name": "stdout",
     "output_type": "stream",
     "text": [
      "['AbC' 'Def']\n"
     ]
    }
   ],
   "source": [
    "# 58. Replace substring\n",
    "print(np.char.replace(arr, 'a', '*'))"
   ]
  },
  {
   "cell_type": "code",
   "execution_count": 204,
   "id": "72034bc4-df41-4534-b3fe-723cf9d80ce8",
   "metadata": {},
   "outputs": [
    {
     "name": "stdout",
     "output_type": "stream",
     "text": [
      "['hello123' 'world456']\n"
     ]
    }
   ],
   "source": [
    "# 59. Concatenate strings element-wise\n",
    "arr1 = np.array(['hello', 'world'])\n",
    "arr2 = np.array(['123', '456'])\n",
    "print(np.char.add(arr1, arr2))"
   ]
  },
  {
   "cell_type": "code",
   "execution_count": 205,
   "id": "692d4a13-b821-4c01-b742-caaa4a2f8978",
   "metadata": {},
   "outputs": [
    {
     "name": "stdout",
     "output_type": "stream",
     "text": [
      "3\n"
     ]
    }
   ],
   "source": [
    "# 60. Length of longest string\n",
    "print(max(np.char.str_len(arr)))"
   ]
  },
  {
   "cell_type": "code",
   "execution_count": 206,
   "id": "a6facbe8-2318-4c1d-94aa-d3a029e4c607",
   "metadata": {},
   "outputs": [
    {
     "name": "stdout",
     "output_type": "stream",
     "text": [
      "484.13 516.0 88777.55309999999 297.95562270244204\n"
     ]
    }
   ],
   "source": [
    "# 61. Random 100 ints and stats\n",
    "arr = np.random.randint(1, 1001, 100)\n",
    "print(np.mean(arr), np.median(arr), np.var(arr), np.std(arr))"
   ]
  },
  {
   "cell_type": "code",
   "execution_count": 207,
   "id": "ab4ce14f-1918-41ff-b4e7-03b15198b7ed",
   "metadata": {},
   "outputs": [
    {
     "name": "stdout",
     "output_type": "stream",
     "text": [
      "[42.25 75.  ]\n"
     ]
    }
   ],
   "source": [
    "# 62. 25th and 75th percentiles\n",
    "arr = np.random.randint(1, 101, 50)\n",
    "print(np.percentile(arr, [25, 75]))\n"
   ]
  },
  {
   "cell_type": "code",
   "execution_count": 208,
   "id": "bc8322df-cb8f-426a-ab4a-fad686021292",
   "metadata": {},
   "outputs": [
    {
     "name": "stdout",
     "output_type": "stream",
     "text": [
      "[[1. 1.]\n",
      " [1. 1.]]\n"
     ]
    }
   ],
   "source": [
    "# 63. Correlation coefficient\n",
    "x = np.array([1, 2, 3])\n",
    "y = np.array([2, 4, 6])\n",
    "print(np.corrcoef(x, y))"
   ]
  },
  {
   "cell_type": "code",
   "execution_count": 209,
   "id": "9692f242-b561-46aa-9a92-7783f216f94a",
   "metadata": {},
   "outputs": [
    {
     "name": "stdout",
     "output_type": "stream",
     "text": [
      "[[19 22]\n",
      " [43 50]]\n"
     ]
    }
   ],
   "source": [
    "# 64. Matrix multiplication\n",
    "a = np.array([[1, 2], [3, 4]])\n",
    "b = np.array([[5, 6], [7, 8]])\n",
    "print(np.dot(a, b))"
   ]
  },
  {
   "cell_type": "code",
   "execution_count": 210,
   "id": "7c23b6a5-a2fd-4942-9b91-e27a24776c5e",
   "metadata": {},
   "outputs": [
    {
     "name": "stdout",
     "output_type": "stream",
     "text": [
      "[14.7 54.5 88.8]\n"
     ]
    }
   ],
   "source": [
    "# 65. Percentiles and quartiles\n",
    "arr = np.random.randint(1, 101, 50)\n",
    "print(np.percentile(arr, [10, 50, 90]))"
   ]
  },
  {
   "cell_type": "code",
   "execution_count": 211,
   "id": "3e0b140a-1aaa-49c8-bc13-44e4582fd8b3",
   "metadata": {},
   "outputs": [
    {
     "name": "stdout",
     "output_type": "stream",
     "text": [
      "(array([2], dtype=int64),)\n"
     ]
    }
   ],
   "source": [
    "# 66. Index of specific element\n",
    "arr = np.array([10, 20, 30, 40])\n",
    "print(np.where(arr == 30))"
   ]
  },
  {
   "cell_type": "code",
   "execution_count": 212,
   "id": "94ed35ad-c465-46c1-83d0-6275cce03527",
   "metadata": {},
   "outputs": [
    {
     "name": "stdout",
     "output_type": "stream",
     "text": [
      "[13 26 32 48 51 64 80 85 94 99]\n"
     ]
    }
   ],
   "source": [
    "# 67. Sort array ascending\n",
    "arr = np.random.randint(1, 100, 10)\n",
    "print(np.sort(arr))"
   ]
  },
  {
   "cell_type": "code",
   "execution_count": 213,
   "id": "7c019b72-4c71-4d4a-9a8b-61f93c10057d",
   "metadata": {},
   "outputs": [
    {
     "name": "stdout",
     "output_type": "stream",
     "text": [
      "[32 64 99 85 94 51 48 80 26]\n"
     ]
    }
   ],
   "source": [
    "# 68. Filter > 20\n",
    "print(arr[arr > 20])"
   ]
  },
  {
   "cell_type": "code",
   "execution_count": 214,
   "id": "9074f7e1-5f48-4b21-af9a-7730256e7f0d",
   "metadata": {},
   "outputs": [
    {
     "name": "stdout",
     "output_type": "stream",
     "text": [
      "[99 51 48]\n"
     ]
    }
   ],
   "source": [
    "# 69. Elements divisible by 3\n",
    "print(arr[arr % 3 == 0])"
   ]
  },
  {
   "cell_type": "code",
   "execution_count": 215,
   "id": "8a356707-ddf6-4f0a-a279-6da9714ce2b6",
   "metadata": {},
   "outputs": [
    {
     "name": "stdout",
     "output_type": "stream",
     "text": [
      "[32 26]\n"
     ]
    }
   ],
   "source": [
    "# 70. Elements between 20 and 40\n",
    "print(arr[(arr >= 20) & (arr <= 40)])"
   ]
  },
  {
   "cell_type": "code",
   "execution_count": null,
   "id": "b04b69fe-53ad-4035-a8b8-ef5c38cbd4ef",
   "metadata": {},
   "outputs": [],
   "source": []
  }
 ],
 "metadata": {
  "kernelspec": {
   "display_name": "Python [conda env:base] *",
   "language": "python",
   "name": "conda-base-py"
  },
  "language_info": {
   "codemirror_mode": {
    "name": "ipython",
    "version": 3
   },
   "file_extension": ".py",
   "mimetype": "text/x-python",
   "name": "python",
   "nbconvert_exporter": "python",
   "pygments_lexer": "ipython3",
   "version": "3.12.7"
  }
 },
 "nbformat": 4,
 "nbformat_minor": 5
}
